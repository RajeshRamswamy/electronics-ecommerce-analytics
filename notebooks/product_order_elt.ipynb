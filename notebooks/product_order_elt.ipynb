{
 "cells": [
  {
   "cell_type": "markdown",
   "metadata": {
    "application/vnd.databricks.v1+cell": {
     "cellMetadata": {},
     "inputWidgets": {},
     "nuid": "cb30b5ee-40e1-43da-9f28-31e1af64e3d5",
     "showTitle": false,
     "tableResultSettingsMap": {},
     "title": ""
    }
   },
   "source": [
    "# E-Commerce Analytics Pipeline\n",
    "\n",
    "## Step 1: Load & Clean Data (PySpark)"
   ]
  },
  {
   "cell_type": "code",
   "execution_count": 0,
   "metadata": {
    "application/vnd.databricks.v1+cell": {
     "cellMetadata": {
      "byteLimit": 2048000,
      "rowLimit": 10000
     },
     "inputWidgets": {},
     "nuid": "9e1483a7-ad11-4eb4-aff8-d1c4d7bc5bf8",
     "showTitle": false,
     "tableResultSettingsMap": {},
     "title": ""
    }
   },
   "outputs": [
    {
     "name": "stdout",
     "output_type": "stream",
     "text": [
      "root\n",
      " |-- event_time: string (nullable = true)\n",
      " |-- order_id: string (nullable = true)\n",
      " |-- product_id: string (nullable = true)\n",
      " |-- category_id: string (nullable = true)\n",
      " |-- category_code: string (nullable = true)\n",
      " |-- brand: string (nullable = true)\n",
      " |-- price: string (nullable = true)\n",
      " |-- user_id: string (nullable = true)\n",
      "\n",
      "+--------------------+-------------------+-------------------+-------------------+--------------------+-------+------+-------------------+\n",
      "|          event_time|           order_id|         product_id|        category_id|       category_code|  brand| price|            user_id|\n",
      "+--------------------+-------------------+-------------------+-------------------+--------------------+-------+------+-------------------+\n",
      "|2020-04-24 11:50:...|2294359932054536986|1515966223509089906|2268105426648170900|  electronics.tablet|samsung|162.01|1515915625441993984|\n",
      "|2020-04-24 11:50:...|2294359932054536986|1515966223509089906|2268105426648170900|  electronics.tablet|samsung|162.01|1515915625441993984|\n",
      "|2020-04-24 14:37:...|2294444024058086220|2273948319057183658|2268105430162997728|electronics.audio...| huawei| 77.52|1515915625447879434|\n",
      "|2020-04-24 14:37:...|2294444024058086220|2273948319057183658|2268105430162997728|electronics.audio...| huawei| 77.52|1515915625447879434|\n",
      "|2020-04-24 19:16:...|2294584263154074236|2273948316817424439|2268105471367840086|                null|karcher|217.57|1515915625443148002|\n",
      "+--------------------+-------------------+-------------------+-------------------+--------------------+-------+------+-------------------+\n",
      "only showing top 5 rows\n",
      "\n"
     ]
    }
   ],
   "source": [
    "#load data from csv into df\n",
    "orders_raw = spark.read.option(\"header\", True).csv(\"/FileStore/tables/kz.csv\")\n",
    "\n",
    "orders_raw.printSchema()\n",
    "orders_raw.show(5)"
   ]
  },
  {
   "cell_type": "code",
   "execution_count": 0,
   "metadata": {
    "application/vnd.databricks.v1+cell": {
     "cellMetadata": {
      "byteLimit": 2048000,
      "rowLimit": 10000
     },
     "inputWidgets": {},
     "nuid": "8ee93d89-2349-4752-873f-db14559ff5af",
     "showTitle": false,
     "tableResultSettingsMap": {},
     "title": ""
    }
   },
   "outputs": [
    {
     "name": "stdout",
     "output_type": "stream",
     "text": [
      "root\n",
      " |-- event_time: date (nullable = true)\n",
      " |-- order_id: string (nullable = true)\n",
      " |-- product_id: string (nullable = true)\n",
      " |-- category_id: string (nullable = true)\n",
      " |-- category_code: string (nullable = true)\n",
      " |-- brand: string (nullable = true)\n",
      " |-- price: float (nullable = true)\n",
      " |-- user_id: string (nullable = true)\n",
      "\n",
      "+----------+-------------------+-------------------+-------------------+--------------------+-------+------+-------------------+\n",
      "|event_time|           order_id|         product_id|        category_id|       category_code|  brand| price|            user_id|\n",
      "+----------+-------------------+-------------------+-------------------+--------------------+-------+------+-------------------+\n",
      "|2020-04-24|2294584263154074236|2273948316817424439|2268105471367840086|                null|karcher|217.57|1515915625443148002|\n",
      "|2020-04-26|2295902490203259134|2273948311742316796|2268105393848713950|appliances.kitche...|     lg|462.94|1515915625450561165|\n",
      "|2020-04-27|2296400480990920715|2273948308663698152|2374498914000592280|electronics.video.tv|samsung|416.64|1515915625450899340|\n",
      "|2020-04-27|2296628237930857206|1515966223509089660|2268105410021949476|computers.compone...|  intel| 91.41|1515915625451131565|\n",
      "|2020-04-28|2297034737199350540|1515966223509719628|2268105635507732512|                null|   null|  6.94|1515915625447779982|\n",
      "+----------+-------------------+-------------------+-------------------+--------------------+-------+------+-------------------+\n",
      "only showing top 5 rows\n",
      "\n"
     ]
    }
   ],
   "source": [
    "from pyspark.sql.functions import col, to_date, to_timestamp\n",
    "\n",
    "#filter data for nulls and dups, cast types\n",
    "orders_cleaned = orders_raw \\\n",
    "    .dropna(subset=[\"order_id\", \"user_id\", \"event_time\", \"price\"]) \\\n",
    "    .dropDuplicates([\"order_id\"]) \\\n",
    "    .withColumn(\"event_time\", to_date(col(\"event_time\"), \"yyyy-MM-dd HH:mm:ss 'UTC'\")) \\\n",
    "    .withColumn(\"price\", col(\"price\").cast(\"float\")) \n",
    "    \n",
    "orders_cleaned.printSchema()\n",
    "orders_cleaned.show(5)\n"
   ]
  },
  {
   "cell_type": "markdown",
   "metadata": {
    "application/vnd.databricks.v1+cell": {
     "cellMetadata": {},
     "inputWidgets": {},
     "nuid": "44820b51-69c9-4bbb-9e94-c9c40fd6abaf",
     "showTitle": false,
     "tableResultSettingsMap": {},
     "title": ""
    }
   },
   "source": [
    "## Step 2: Store as Delta Table\n"
   ]
  },
  {
   "cell_type": "code",
   "execution_count": 0,
   "metadata": {
    "application/vnd.databricks.v1+cell": {
     "cellMetadata": {
      "byteLimit": 2048000,
      "rowLimit": 10000
     },
     "inputWidgets": {},
     "nuid": "02912f4c-f22e-48d2-b9ac-3425b783e4fc",
     "showTitle": false,
     "tableResultSettingsMap": {},
     "title": ""
    }
   },
   "outputs": [
    {
     "name": "stdout",
     "output_type": "stream",
     "text": [
      "Out[14]: DataFrame[]"
     ]
    }
   ],
   "source": [
    "#save as delta file\n",
    "orders_cleaned.write \\\n",
    "  .format(\"delta\") \\\n",
    "  .mode(\"overwrite\") \\\n",
    "  .save(\"/tmp/orders_cleaned_delta\")\n",
    "\n",
    "#register as spark SQL table\n",
    "spark.sql(\"DROP TABLE IF EXISTS orders_cleaned\")\n",
    "spark.sql(\"CREATE TABLE orders_cleaned USING DELTA LOCATION '/tmp/orders_cleaned_delta'\")"
   ]
  },
  {
   "cell_type": "code",
   "execution_count": 0,
   "metadata": {
    "application/vnd.databricks.v1+cell": {
     "cellMetadata": {
      "byteLimit": 2048000,
      "implicitDf": true,
      "rowLimit": 10000
     },
     "inputWidgets": {},
     "nuid": "dbb15fc5-8c88-4ac9-ab80-0a703f246dc3",
     "showTitle": false,
     "tableResultSettingsMap": {},
     "title": ""
    }
   },
   "outputs": [
    {
     "data": {
      "text/html": [
       "<style scoped>\n",
       "  .table-result-container {\n",
       "    max-height: 300px;\n",
       "    overflow: auto;\n",
       "  }\n",
       "  table, th, td {\n",
       "    border: 1px solid black;\n",
       "    border-collapse: collapse;\n",
       "  }\n",
       "  th, td {\n",
       "    padding: 5px;\n",
       "  }\n",
       "  th {\n",
       "    text-align: left;\n",
       "  }\n",
       "</style><div class='table-result-container'><table class='table-result'><thead style='background-color: white'><tr><th>event_time</th><th>order_id</th><th>product_id</th><th>category_id</th><th>category_code</th><th>brand</th><th>price</th><th>user_id</th></tr></thead><tbody><tr><td>2020-04-24</td><td>2294584263154074236</td><td>2273948316817424439</td><td>2268105471367840086</td><td>null</td><td>karcher</td><td>217.57</td><td>1515915625443148002</td></tr><tr><td>2020-04-26</td><td>2295902490203259134</td><td>2273948311742316796</td><td>2268105393848713950</td><td>appliances.kitchen.refrigerators</td><td>lg</td><td>462.94</td><td>1515915625450561165</td></tr><tr><td>2020-04-27</td><td>2296400480990920715</td><td>2273948308663698152</td><td>2374498914000592280</td><td>electronics.video.tv</td><td>samsung</td><td>416.64</td><td>1515915625450899340</td></tr><tr><td>2020-04-27</td><td>2296628237930857206</td><td>1515966223509089660</td><td>2268105410021949476</td><td>computers.components.cpu</td><td>intel</td><td>91.41</td><td>1515915625451131565</td></tr><tr><td>2020-04-28</td><td>2297034737199350540</td><td>1515966223509719628</td><td>2268105635507732512</td><td>null</td><td>null</td><td>6.94</td><td>1515915625447779982</td></tr></tbody></table></div>"
      ]
     },
     "metadata": {
      "application/vnd.databricks.v1+output": {
       "addedWidgets": {},
       "aggData": [],
       "aggError": "",
       "aggOverflow": false,
       "aggSchema": [],
       "aggSeriesLimitReached": false,
       "aggType": "",
       "arguments": {},
       "columnCustomDisplayInfos": {},
       "data": [
        [
         "2020-04-24",
         "2294584263154074236",
         "2273948316817424439",
         "2268105471367840086",
         null,
         "karcher",
         217.57,
         "1515915625443148002"
        ],
        [
         "2020-04-26",
         "2295902490203259134",
         "2273948311742316796",
         "2268105393848713950",
         "appliances.kitchen.refrigerators",
         "lg",
         462.94,
         "1515915625450561165"
        ],
        [
         "2020-04-27",
         "2296400480990920715",
         "2273948308663698152",
         "2374498914000592280",
         "electronics.video.tv",
         "samsung",
         416.64,
         "1515915625450899340"
        ],
        [
         "2020-04-27",
         "2296628237930857206",
         "1515966223509089660",
         "2268105410021949476",
         "computers.components.cpu",
         "intel",
         91.41,
         "1515915625451131565"
        ],
        [
         "2020-04-28",
         "2297034737199350540",
         "1515966223509719628",
         "2268105635507732512",
         null,
         null,
         6.94,
         "1515915625447779982"
        ]
       ],
       "datasetInfos": [],
       "dbfsResultPath": null,
       "isJsonSchema": true,
       "metadata": {},
       "overflow": false,
       "plotOptions": {
        "customPlotOptions": {},
        "displayType": "table",
        "pivotAggregation": null,
        "pivotColumns": null,
        "xColumns": null,
        "yColumns": null
       },
       "removedWidgets": [],
       "schema": [
        {
         "metadata": "{}",
         "name": "event_time",
         "type": "\"date\""
        },
        {
         "metadata": "{}",
         "name": "order_id",
         "type": "\"string\""
        },
        {
         "metadata": "{}",
         "name": "product_id",
         "type": "\"string\""
        },
        {
         "metadata": "{}",
         "name": "category_id",
         "type": "\"string\""
        },
        {
         "metadata": "{}",
         "name": "category_code",
         "type": "\"string\""
        },
        {
         "metadata": "{}",
         "name": "brand",
         "type": "\"string\""
        },
        {
         "metadata": "{}",
         "name": "price",
         "type": "\"float\""
        },
        {
         "metadata": "{}",
         "name": "user_id",
         "type": "\"string\""
        }
       ],
       "type": "table"
      }
     },
     "output_type": "display_data"
    }
   ],
   "source": [
    "%sql\n",
    "SELECT * FROM orders_cleaned LIMIT 5;"
   ]
  },
  {
   "cell_type": "markdown",
   "metadata": {
    "application/vnd.databricks.v1+cell": {
     "cellMetadata": {},
     "inputWidgets": {},
     "nuid": "3e37095d-4b79-4b20-96cb-abd9eb4f6d86",
     "showTitle": false,
     "tableResultSettingsMap": {},
     "title": ""
    }
   },
   "source": [
    "## Step 3: Transform with SQL\n"
   ]
  },
  {
   "cell_type": "code",
   "execution_count": 0,
   "metadata": {
    "application/vnd.databricks.v1+cell": {
     "cellMetadata": {
      "byteLimit": 2048000,
      "implicitDf": true,
      "rowLimit": 10000
     },
     "inputWidgets": {},
     "nuid": "67fb9fd3-d474-43c8-b93c-0d1d6acc81c4",
     "showTitle": false,
     "tableResultSettingsMap": {},
     "title": ""
    }
   },
   "outputs": [
    {
     "data": {
      "text/html": [
       "<style scoped>\n",
       "  .table-result-container {\n",
       "    max-height: 300px;\n",
       "    overflow: auto;\n",
       "  }\n",
       "  table, th, td {\n",
       "    border: 1px solid black;\n",
       "    border-collapse: collapse;\n",
       "  }\n",
       "  th, td {\n",
       "    padding: 5px;\n",
       "  }\n",
       "  th {\n",
       "    text-align: left;\n",
       "  }\n",
       "</style><div class='table-result-container'><table class='table-result'><thead style='background-color: white'><tr></tr></thead><tbody></tbody></table></div>"
      ]
     },
     "metadata": {
      "application/vnd.databricks.v1+output": {
       "addedWidgets": {},
       "aggData": [],
       "aggError": "",
       "aggOverflow": false,
       "aggSchema": [],
       "aggSeriesLimitReached": false,
       "aggType": "",
       "arguments": {},
       "columnCustomDisplayInfos": {},
       "data": [],
       "datasetInfos": [],
       "dbfsResultPath": null,
       "isJsonSchema": true,
       "metadata": {},
       "overflow": false,
       "plotOptions": {
        "customPlotOptions": {},
        "displayType": "table",
        "pivotAggregation": null,
        "pivotColumns": null,
        "xColumns": null,
        "yColumns": null
       },
       "removedWidgets": [],
       "schema": [],
       "type": "table"
      }
     },
     "output_type": "display_data"
    }
   ],
   "source": [
    "%sql\n",
    "-- query to find how much each brands sell per week\n",
    "CREATE OR REPLACE VIEW weekly_brand_sales\n",
    "AS\n",
    "SELECT \n",
    "  WEEKOFYEAR(event_time) AS week_number,\n",
    "  brand,\n",
    "  COUNT(*) AS orders_count,\n",
    "  ROUND(SUM(price), 2) AS total_price_sum\n",
    "FROM orders_cleaned\n",
    "WHERE event_time IS NOT NULL AND brand IS NOT NULL AND price IS NOT NULL\n",
    "GROUP BY week_number, brand\n",
    "ORDER BY week_number, brand;"
   ]
  },
  {
   "cell_type": "code",
   "execution_count": 0,
   "metadata": {
    "application/vnd.databricks.v1+cell": {
     "cellMetadata": {
      "byteLimit": 2048000,
      "implicitDf": true,
      "rowLimit": 10000
     },
     "inputWidgets": {},
     "nuid": "d5127477-0270-4c19-9cd0-d2766ae14d23",
     "showTitle": false,
     "tableResultSettingsMap": {},
     "title": ""
    }
   },
   "outputs": [
    {
     "data": {
      "text/html": [
       "<style scoped>\n",
       "  .table-result-container {\n",
       "    max-height: 300px;\n",
       "    overflow: auto;\n",
       "  }\n",
       "  table, th, td {\n",
       "    border: 1px solid black;\n",
       "    border-collapse: collapse;\n",
       "  }\n",
       "  th, td {\n",
       "    padding: 5px;\n",
       "  }\n",
       "  th {\n",
       "    text-align: left;\n",
       "  }\n",
       "</style><div class='table-result-container'><table class='table-result'><thead style='background-color: white'><tr></tr></thead><tbody></tbody></table></div>"
      ]
     },
     "metadata": {
      "application/vnd.databricks.v1+output": {
       "addedWidgets": {},
       "aggData": [],
       "aggError": "",
       "aggOverflow": false,
       "aggSchema": [],
       "aggSeriesLimitReached": false,
       "aggType": "",
       "arguments": {},
       "columnCustomDisplayInfos": {},
       "data": [],
       "datasetInfos": [],
       "dbfsResultPath": null,
       "isJsonSchema": true,
       "metadata": {},
       "overflow": false,
       "plotOptions": {
        "customPlotOptions": {},
        "displayType": "table",
        "pivotAggregation": null,
        "pivotColumns": null,
        "xColumns": null,
        "yColumns": null
       },
       "removedWidgets": [],
       "schema": [],
       "type": "table"
      }
     },
     "output_type": "display_data"
    }
   ],
   "source": [
    "%sql\n",
    "-- query to find revenue per day\n",
    "CREATE OR REPLACE VIEW daily_revenue_table AS\n",
    "SELECT \n",
    "  DATE(event_time) AS order_date,\n",
    "  ROUND(SUM(price), 2) AS daily_total_revenue\n",
    "FROM orders_cleaned\n",
    "GROUP BY DATE(event_time)\n",
    "ORDER BY daily_total_revenue ASC;"
   ]
  },
  {
   "cell_type": "code",
   "execution_count": 0,
   "metadata": {
    "application/vnd.databricks.v1+cell": {
     "cellMetadata": {
      "byteLimit": 2048000,
      "implicitDf": true,
      "rowLimit": 10000
     },
     "inputWidgets": {},
     "nuid": "dbdfd0c9-73b8-4347-b54a-da05a8dde98c",
     "showTitle": false,
     "tableResultSettingsMap": {},
     "title": ""
    }
   },
   "outputs": [
    {
     "data": {
      "text/html": [
       "<style scoped>\n",
       "  .table-result-container {\n",
       "    max-height: 300px;\n",
       "    overflow: auto;\n",
       "  }\n",
       "  table, th, td {\n",
       "    border: 1px solid black;\n",
       "    border-collapse: collapse;\n",
       "  }\n",
       "  th, td {\n",
       "    padding: 5px;\n",
       "  }\n",
       "  th {\n",
       "    text-align: left;\n",
       "  }\n",
       "</style><div class='table-result-container'><table class='table-result'><thead style='background-color: white'><tr></tr></thead><tbody></tbody></table></div>"
      ]
     },
     "metadata": {
      "application/vnd.databricks.v1+output": {
       "addedWidgets": {},
       "aggData": [],
       "aggError": "",
       "aggOverflow": false,
       "aggSchema": [],
       "aggSeriesLimitReached": false,
       "aggType": "",
       "arguments": {},
       "columnCustomDisplayInfos": {},
       "data": [],
       "datasetInfos": [],
       "dbfsResultPath": null,
       "isJsonSchema": true,
       "metadata": {},
       "overflow": false,
       "plotOptions": {
        "customPlotOptions": {},
        "displayType": "table",
        "pivotAggregation": null,
        "pivotColumns": null,
        "xColumns": null,
        "yColumns": null
       },
       "removedWidgets": [],
       "schema": [],
       "type": "table"
      }
     },
     "output_type": "display_data"
    }
   ],
   "source": [
    "%sql\n",
    "-- query to get sales per day of week\n",
    "CREATE OR REPLACE VIEW sales_by_day AS\n",
    "SELECT \n",
    "  DATE_FORMAT(event_time, 'E') AS day_of_week,  \n",
    "  ROUND(AVG(price), 2) AS avg_sale_price,\n",
    "  COUNT(*) AS total_orders,\n",
    "  ROUND(SUM(price), 2) AS total_revenue\n",
    "FROM orders_cleaned\n",
    "WHERE price IS NOT NULL\n",
    "GROUP BY day_of_week\n",
    "ORDER BY \n",
    "  CASE day_of_week  \n",
    "    WHEN 'Sun' THEN 1\n",
    "    WHEN 'Mon' THEN 2\n",
    "    WHEN 'Tue' THEN 3\n",
    "    WHEN 'Wed' THEN 4\n",
    "    WHEN 'Thu' THEN 5\n",
    "    WHEN 'Fri' THEN 6\n",
    "    WHEN 'Sat' THEN 7\n",
    "  END;"
   ]
  }
 ],
 "metadata": {
  "application/vnd.databricks.v1+notebook": {
   "computePreferences": null,
   "dashboards": [],
   "environmentMetadata": {
    "base_environment": "",
    "environment_version": "1"
   },
   "inputWidgetPreferences": null,
   "language": "python",
   "notebookMetadata": {
    "mostRecentlyExecutedCommandWithImplicitDF": {
     "commandId": 1442814532343512,
     "dataframes": [
      "_sqldf"
     ]
    },
    "pythonIndentUnit": 4
   },
   "notebookName": "product_order_etl",
   "widgets": {}
  },
  "language_info": {
   "name": "python"
  }
 },
 "nbformat": 4,
 "nbformat_minor": 0
}
